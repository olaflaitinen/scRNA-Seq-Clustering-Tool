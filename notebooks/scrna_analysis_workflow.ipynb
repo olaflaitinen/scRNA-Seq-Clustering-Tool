{
 "cells": [
  {
   "cell_type": "markdown",
   "metadata": {},
   "source": [
    "# Single-Cell RNA-Seq Analysis Workflow with Scanpy\n",
    "\n",
    "**Author:** scRNA-Seq Analysis Team  \n",
    "**Dataset:** 3k PBMCs from 10x Genomics  \n",
    "**Goal:** Perform a complete scRNA-Seq analysis pipeline from raw counts to annotated cell types\n",
    "\n",
    "---\n",
    "\n",
    "## Overview\n",
    "\n",
    "This notebook demonstrates a standard single-cell RNA-sequencing (scRNA-Seq) analysis workflow using the Python package `scanpy`. The workflow includes:\n",
    "\n",
    "1. **Data Loading**: Import 10x Genomics formatted data\n",
    "2. **Quality Control**: Filter low-quality cells and genes\n",
    "3. **Normalization**: Normalize and log-transform expression data\n",
    "4. **Feature Selection**: Identify highly variable genes\n",
    "5. **Dimensionality Reduction**: PCA and UMAP\n",
    "6. **Clustering**: Leiden algorithm for cell clustering\n",
    "7. **Marker Gene Identification**: Find cluster-specific genes\n",
    "8. **Cell Type Annotation**: Assign biological identities to clusters\n",
    "\n",
    "---"
   ]
  },
  {
   "cell_type": "markdown",
   "metadata": {},
   "source": [
    "## 1. Setup and Configuration\n",
    "\n",
    "Import required libraries and configure analysis parameters."
   ]
  },
  {
   "cell_type": "code",
   "execution_count": null,
   "metadata": {},
   "outputs": [],
   "source": [
    "# Import libraries\n",
    "import scanpy as sc\n",
    "import numpy as np\n",
    "import pandas as pd\n",
    "import matplotlib.pyplot as plt\n",
    "import seaborn as sns\n",
    "from pathlib import Path\n",
    "import warnings\n",
    "\n",
    "# Suppress warnings for cleaner output\n",
    "warnings.filterwarnings('ignore')\n",
    "\n",
    "# Set random seed for reproducibility\n",
    "np.random.seed(42)\n",
    "\n",
    "# Configure scanpy settings\n",
    "sc.settings.verbosity = 3  # verbosity: errors (0), warnings (1), info (2), hints (3)\n",
    "sc.logging.print_header()\n",
    "sc.settings.set_figure_params(dpi=80, facecolor='white', frameon=False)"
   ]
  },
  {
   "cell_type": "code",
   "execution_count": null,
   "metadata": {},
   "outputs": [],
   "source": [
    "# Define paths\n",
    "DATA_DIR = Path('../data/pbmc3k/filtered_gene_bc_matrices/hg19/')\n",
    "FIGURES_DIR = Path('../figures/')\n",
    "FIGURES_DIR.mkdir(exist_ok=True)\n",
    "\n",
    "# Configure output directory for scanpy figures\n",
    "sc.settings.figdir = FIGURES_DIR"
   ]
  },
  {
   "cell_type": "markdown",
   "metadata": {},
   "source": [
    "## 2. Data Loading\n",
    "\n",
    "Load the 10x Genomics PBMC dataset. The dataset contains gene expression measurements for approximately 3,000 peripheral blood mononuclear cells (PBMCs)."
   ]
  },
  {
   "cell_type": "code",
   "execution_count": null,
   "metadata": {},
   "outputs": [],
   "source": [
    "# Load the data using scanpy's read_10x_mtx function\n",
    "# This function reads the matrix.mtx, genes.tsv, and barcodes.tsv files\n",
    "adata = sc.read_10x_mtx(\n",
    "    DATA_DIR,\n",
    "    var_names='gene_symbols',  # Use gene symbols as variable names\n",
    "    cache=True  # Cache the data for faster subsequent loading\n",
    ")\n",
    "\n",
    "print(f\"\\nDataset shape: {adata.shape}\")\n",
    "print(f\"Number of cells: {adata.n_obs}\")\n",
    "print(f\"Number of genes: {adata.n_vars}\")"
   ]
  },
  {
   "cell_type": "code",
   "execution_count": null,
   "metadata": {},
   "outputs": [],
   "source": [
    "# Display basic information about the dataset\n",
    "adata"
   ]
  },
  {
   "cell_type": "markdown",
   "metadata": {},
   "source": [
    "## 3. Quality Control (QC)\n",
    "\n",
    "Quality control is crucial for ensuring robust downstream analysis. We will:\n",
    "\n",
    "- Calculate QC metrics (number of genes per cell, total counts, mitochondrial gene percentage)\n",
    "- Visualize QC metrics\n",
    "- Filter cells and genes based on quality thresholds"
   ]
  },
  {
   "cell_type": "markdown",
   "metadata": {},
   "source": [
    "### 3.1 Calculate QC Metrics"
   ]
  },
  {
   "cell_type": "code",
   "execution_count": null,
   "metadata": {},
   "outputs": [],
   "source": [
    "# Identify mitochondrial genes (genes starting with 'MT-')\n",
    "adata.var['mt'] = adata.var_names.str.startswith('MT-')\n",
    "\n",
    "# Calculate QC metrics\n",
    "# - n_genes_by_counts: number of genes expressed per cell\n",
    "# - total_counts: total counts per cell\n",
    "# - pct_counts_mt: percentage of counts from mitochondrial genes\n",
    "sc.pp.calculate_qc_metrics(\n",
    "    adata,\n",
    "    qc_vars=['mt'],\n",
    "    percent_top=None,\n",
    "    log1p=False,\n",
    "    inplace=True\n",
    ")\n",
    "\n",
    "# Display QC metrics summary\n",
    "print(\"\\nQC Metrics Summary:\")\n",
    "print(adata.obs[['n_genes_by_counts', 'total_counts', 'pct_counts_mt']].describe())"
   ]
  },
  {
   "cell_type": "markdown",
   "metadata": {},
   "source": [
    "### 3.2 Visualize QC Metrics"
   ]
  },
  {
   "cell_type": "code",
   "execution_count": null,
   "metadata": {},
   "outputs": [],
   "source": [
    "# Create violin plots for QC metrics\n",
    "sc.pl.violin(\n",
    "    adata,\n",
    "    ['n_genes_by_counts', 'total_counts', 'pct_counts_mt'],\n",
    "    jitter=0.4,\n",
    "    multi_panel=True,\n",
    "    save='_qc_violin.png'\n",
    ")"
   ]
  },
  {
   "cell_type": "code",
   "execution_count": null,
   "metadata": {},
   "outputs": [],
   "source": [
    "# Create scatter plots to visualize relationships between QC metrics\n",
    "sc.pl.scatter(adata, x='total_counts', y='pct_counts_mt', save='_qc_scatter_mt.png')\n",
    "sc.pl.scatter(adata, x='total_counts', y='n_genes_by_counts', save='_qc_scatter_genes.png')"
   ]
  },
  {
   "cell_type": "markdown",
   "metadata": {},
   "source": [
    "### 3.3 Filter Cells and Genes\n",
    "\n",
    "**Filtering criteria:**\n",
    "- **Cells:** Retain cells with 200-2500 genes and <5% mitochondrial counts\n",
    "- **Genes:** Retain genes expressed in at least 3 cells\n",
    "\n",
    "High mitochondrial percentage often indicates dying/dead cells."
   ]
  },
  {
   "cell_type": "code",
   "execution_count": null,
   "metadata": {},
   "outputs": [],
   "source": [
    "# Store original counts for later reference\n",
    "print(f\"Cells before filtering: {adata.n_obs}\")\n",
    "print(f\"Genes before filtering: {adata.n_vars}\")\n",
    "\n",
    "# Filter cells based on QC metrics\n",
    "sc.pp.filter_cells(adata, min_genes=200)  # Minimum 200 genes per cell\n",
    "sc.pp.filter_genes(adata, min_cells=3)    # Genes expressed in at least 3 cells\n",
    "\n",
    "# Filter cells with high mitochondrial content and too many genes\n",
    "adata = adata[adata.obs.n_genes_by_counts < 2500, :]\n",
    "adata = adata[adata.obs.pct_counts_mt < 5, :]\n",
    "\n",
    "print(f\"\\nCells after filtering: {adata.n_obs}\")\n",
    "print(f\"Genes after filtering: {adata.n_vars}\")\n",
    "print(f\"Cells removed: {adata.n_obs}\")"
   ]
  },
  {
   "cell_type": "markdown",
   "metadata": {},
   "source": [
    "## 4. Normalization and Preprocessing\n",
    "\n",
    "Normalize the data to account for differences in library size across cells and apply log transformation."
   ]
  },
  {
   "cell_type": "code",
   "execution_count": null,
   "metadata": {},
   "outputs": [],
   "source": [
    "# Save raw counts for later use\n",
    "adata.layers['counts'] = adata.X.copy()\n",
    "\n",
    "# Normalize total counts per cell to 10,000 (target_sum=1e4)\n",
    "# This makes counts comparable across cells\n",
    "sc.pp.normalize_total(adata, target_sum=1e4)\n",
    "\n",
    "# Log-transform the data: X = log(X + 1)\n",
    "sc.pp.log1p(adata)\n",
    "\n",
    "# Store normalized and log-transformed data\n",
    "adata.raw = adata\n",
    "\n",
    "print(\"Normalization and log-transformation completed.\")"
   ]
  },
  {
   "cell_type": "markdown",
   "metadata": {},
   "source": [
    "## 5. Feature Selection: Highly Variable Genes\n",
    "\n",
    "Identify genes that show high variability across cells. These genes are most informative for distinguishing cell types."
   ]
  },
  {
   "cell_type": "code",
   "execution_count": null,
   "metadata": {},
   "outputs": [],
   "source": [
    "# Identify highly variable genes\n",
    "# We select the top 2000 genes with highest variability\n",
    "sc.pp.highly_variable_genes(\n",
    "    adata,\n",
    "    n_top_genes=2000,\n",
    "    flavor='seurat',\n",
    "    subset=False  # Keep all genes but mark HVGs\n",
    ")\n",
    "\n",
    "print(f\"\\nNumber of highly variable genes: {sum(adata.var.highly_variable)}\")"
   ]
  },
  {
   "cell_type": "code",
   "execution_count": null,
   "metadata": {},
   "outputs": [],
   "source": [
    "# Visualize highly variable genes\n",
    "sc.pl.highly_variable_genes(adata, save='_hvg.png')"
   ]
  },
  {
   "cell_type": "code",
   "execution_count": null,
   "metadata": {},
   "outputs": [],
   "source": [
    "# Subset to highly variable genes for downstream analysis\n",
    "adata = adata[:, adata.var.highly_variable]\n",
    "print(f\"Dataset shape after HVG selection: {adata.shape}\")"
   ]
  },
  {
   "cell_type": "markdown",
   "metadata": {},
   "source": [
    "## 6. Scaling and Regression\n",
    "\n",
    "Scale the data to unit variance and zero mean. Optionally regress out unwanted sources of variation."
   ]
  },
  {
   "cell_type": "code",
   "execution_count": null,
   "metadata": {},
   "outputs": [],
   "source": [
    "# Regress out effects of total counts and mitochondrial percentage\n",
    "# This reduces technical variation\n",
    "sc.pp.regress_out(adata, ['total_counts', 'pct_counts_mt'])\n",
    "\n",
    "# Scale data to unit variance and zero mean\n",
    "# Clip values at max value of 10 to avoid excessive influence of outliers\n",
    "sc.pp.scale(adata, max_value=10)\n",
    "\n",
    "print(\"Scaling and regression completed.\")"
   ]
  },
  {
   "cell_type": "markdown",
   "metadata": {},
   "source": [
    "## 7. Dimensionality Reduction: PCA\n",
    "\n",
    "Principal Component Analysis (PCA) reduces the dimensionality of the data while preserving most of the variance."
   ]
  },
  {
   "cell_type": "code",
   "execution_count": null,
   "metadata": {},
   "outputs": [],
   "source": [
    "# Compute PCA\n",
    "# We compute 50 principal components\n",
    "sc.tl.pca(adata, svd_solver='arpack', n_comps=50)\n",
    "\n",
    "print(\"PCA computation completed.\")"
   ]
  },
  {
   "cell_type": "code",
   "execution_count": null,
   "metadata": {},
   "outputs": [],
   "source": [
    "# Visualize variance ratio explained by each PC\n",
    "sc.pl.pca_variance_ratio(adata, log=True, n_pcs=50, save='_variance_ratio.png')"
   ]
  },
  {
   "cell_type": "code",
   "execution_count": null,
   "metadata": {},
   "outputs": [],
   "source": [
    "# Visualize cells in PCA space\n",
    "sc.pl.pca(adata, color='CST3', save='_pca_CST3.png')"
   ]
  },
  {
   "cell_type": "markdown",
   "metadata": {},
   "source": [
    "## 8. Neighborhood Graph and UMAP\n",
    "\n",
    "Compute a neighborhood graph of cells based on PCA coordinates, then compute UMAP for 2D visualization."
   ]
  },
  {
   "cell_type": "code",
   "execution_count": null,
   "metadata": {},
   "outputs": [],
   "source": [
    "# Compute neighborhood graph\n",
    "# This graph will be used for clustering and UMAP\n",
    "sc.pp.neighbors(\n",
    "    adata,\n",
    "    n_neighbors=10,\n",
    "    n_pcs=40  # Use first 40 PCs\n",
    ")\n",
    "\n",
    "print(\"Neighborhood graph computed.\")"
   ]
  },
  {
   "cell_type": "code",
   "execution_count": null,
   "metadata": {},
   "outputs": [],
   "source": [
    "# Compute UMAP embedding\n",
    "# UMAP provides a 2D representation that preserves local and global structure\n",
    "sc.tl.umap(adata)\n",
    "\n",
    "print(\"UMAP embedding computed.\")"
   ]
  },
  {
   "cell_type": "code",
   "execution_count": null,
   "metadata": {},
   "outputs": [],
   "source": [
    "# Visualize UMAP (without clustering yet)\n",
    "sc.pl.umap(adata, save='_initial.png')"
   ]
  },
  {
   "cell_type": "markdown",
   "metadata": {},
   "source": [
    "## 9. Clustering with Leiden Algorithm\n",
    "\n",
    "The Leiden algorithm is an improved version of the Louvain algorithm for detecting communities in networks."
   ]
  },
  {
   "cell_type": "code",
   "execution_count": null,
   "metadata": {},
   "outputs": [],
   "source": [
    "# Perform Leiden clustering\n",
    "# Resolution parameter controls the coarseness of the clustering\n",
    "# Higher values lead to more clusters\n",
    "sc.tl.leiden(\n",
    "    adata,\n",
    "    resolution=0.9,\n",
    "    random_state=42\n",
    ")\n",
    "\n",
    "print(f\"\\nNumber of clusters identified: {len(adata.obs['leiden'].unique())}\")\n",
    "print(\"\\nCluster sizes:\")\n",
    "print(adata.obs['leiden'].value_counts().sort_index())"
   ]
  },
  {
   "cell_type": "code",
   "execution_count": null,
   "metadata": {},
   "outputs": [],
   "source": [
    "# Visualize clustering results on UMAP\n",
    "sc.pl.umap(\n",
    "    adata,\n",
    "    color=['leiden'],\n",
    "    legend_loc='on data',\n",
    "    title='UMAP by Leiden Cluster',\n",
    "    save='_leiden.png'\n",
    ")"
   ]
  },
  {
   "cell_type": "markdown",
   "metadata": {},
   "source": [
    "## 10. Marker Gene Identification\n",
    "\n",
    "Identify genes that are differentially expressed in each cluster compared to all other cells."
   ]
  },
  {
   "cell_type": "code",
   "execution_count": null,
   "metadata": {},
   "outputs": [],
   "source": [
    "# Find marker genes for each cluster\n",
    "# Uses Wilcoxon rank-sum test by default\n",
    "sc.tl.rank_genes_groups(\n",
    "    adata,\n",
    "    groupby='leiden',\n",
    "    method='wilcoxon',\n",
    "    key_added='rank_genes_leiden'\n",
    ")\n",
    "\n",
    "print(\"Marker gene analysis completed.\")"
   ]
  },
  {
   "cell_type": "code",
   "execution_count": null,
   "metadata": {},
   "outputs": [],
   "source": [
    "# Visualize top marker genes for each cluster\n",
    "sc.pl.rank_genes_groups(\n",
    "    adata,\n",
    "    n_genes=20,\n",
    "    sharey=False,\n",
    "    key='rank_genes_leiden',\n",
    "    save='_marker_genes.png'\n",
    ")"
   ]
  },
  {
   "cell_type": "code",
   "execution_count": null,
   "metadata": {},
   "outputs": [],
   "source": [
    "# Display top 5 marker genes for each cluster\n",
    "pd.DataFrame(adata.uns['rank_genes_leiden']['names']).head(5)"
   ]
  },
  {
   "cell_type": "code",
   "execution_count": null,
   "metadata": {},
   "outputs": [],
   "source": [
    "# Create a heatmap of top marker genes\n",
    "sc.pl.rank_genes_groups_heatmap(\n",
    "    adata,\n",
    "    n_genes=10,\n",
    "    key='rank_genes_leiden',\n",
    "    groupby='leiden',\n",
    "    show_gene_labels=True,\n",
    "    save='_marker_heatmap.png'\n",
    ")"
   ]
  },
  {
   "cell_type": "code",
   "execution_count": null,
   "metadata": {},
   "outputs": [],
   "source": [
    "# Dotplot of marker genes\n",
    "sc.pl.rank_genes_groups_dotplot(\n",
    "    adata,\n",
    "    n_genes=5,\n",
    "    key='rank_genes_leiden',\n",
    "    groupby='leiden',\n",
    "    save='_marker_dotplot.png'\n",
    ")"
   ]
  },
  {
   "cell_type": "markdown",
   "metadata": {},
   "source": [
    "## 11. Cell Type Annotation\n",
    "\n",
    "Annotate clusters based on known marker genes for PBMC cell types.\n",
    "\n",
    "**Known PBMC markers:**\n",
    "- **CD4 T cells:** IL7R, CD4\n",
    "- **CD8 T cells:** CD8A, CD8B\n",
    "- **B cells:** CD79A, MS4A1 (CD20)\n",
    "- **NK cells:** GNLY, NKG7\n",
    "- **Monocytes:** CD14, LYZ\n",
    "- **FCGR3A+ Monocytes:** FCGR3A, MS4A7\n",
    "- **Dendritic cells:** FCER1A, CST3\n",
    "- **Megakaryocytes:** PPBP (platelets)"
   ]
  },
  {
   "cell_type": "code",
   "execution_count": null,
   "metadata": {},
   "outputs": [],
   "source": [
    "# Define canonical marker genes for PBMC cell types\n",
    "marker_genes = {\n",
    "    'CD4 T cells': ['IL7R', 'CD4'],\n",
    "    'CD8 T cells': ['CD8A', 'CD8B'],\n",
    "    'B cells': ['CD79A', 'MS4A1'],\n",
    "    'NK cells': ['GNLY', 'NKG7'],\n",
    "    'CD14+ Monocytes': ['CD14', 'LYZ'],\n",
    "    'FCGR3A+ Monocytes': ['FCGR3A', 'MS4A7'],\n",
    "    'Dendritic cells': ['FCER1A', 'CST3'],\n",
    "    'Megakaryocytes': ['PPBP']\n",
    "}\n",
    "\n",
    "# Flatten the marker list for visualization\n",
    "marker_genes_list = [gene for genes in marker_genes.values() for gene in genes]\n",
    "\n",
    "# Remove duplicates while preserving order\n",
    "marker_genes_list = list(dict.fromkeys(marker_genes_list))\n",
    "\n",
    "print(\"Marker genes for annotation:\")\n",
    "print(marker_genes_list)"
   ]
  },
  {
   "cell_type": "code",
   "execution_count": null,
   "metadata": {},
   "outputs": [],
   "source": [
    "# Visualize known marker genes on UMAP\n",
    "sc.pl.umap(\n",
    "    adata,\n",
    "    color=marker_genes_list,\n",
    "    use_raw=True,\n",
    "    ncols=3,\n",
    "    save='_marker_expression.png'\n",
    ")"
   ]
  },
  {
   "cell_type": "code",
   "execution_count": null,
   "metadata": {},
   "outputs": [],
   "source": [
    "# Create dotplot of marker genes by cluster\n",
    "sc.pl.dotplot(\n",
    "    adata,\n",
    "    marker_genes_list,\n",
    "    groupby='leiden',\n",
    "    use_raw=True,\n",
    "    dendrogram=True,\n",
    "    save='_cell_type_markers.png'\n",
    ")"
   ]
  },
  {
   "cell_type": "code",
   "execution_count": null,
   "metadata": {},
   "outputs": [],
   "source": [
    "# Create heatmap of marker genes\n",
    "sc.pl.heatmap(\n",
    "    adata,\n",
    "    marker_genes_list,\n",
    "    groupby='leiden',\n",
    "    use_raw=True,\n",
    "    cmap='viridis',\n",
    "    dendrogram=True,\n",
    "    save='_cell_type_heatmap.png'\n",
    ")"
   ]
  },
  {
   "cell_type": "markdown",
   "metadata": {},
   "source": [
    "### Manual Annotation Based on Marker Expression"
   ]
  },
  {
   "cell_type": "code",
   "execution_count": null,
   "metadata": {},
   "outputs": [],
   "source": [
    "# Based on the marker gene expression patterns, manually annotate clusters\n",
    "# This mapping should be adjusted based on your actual data\n",
    "# The numbers below are examples and may differ in your analysis\n",
    "\n",
    "cluster_annotations = {\n",
    "    '0': 'CD4 T cells',\n",
    "    '1': 'CD14+ Monocytes',\n",
    "    '2': 'B cells',\n",
    "    '3': 'CD4 T cells',\n",
    "    '4': 'CD8 T cells',\n",
    "    '5': 'NK cells',\n",
    "    '6': 'FCGR3A+ Monocytes',\n",
    "    '7': 'Dendritic cells',\n",
    "    '8': 'Megakaryocytes'\n",
    "}\n",
    "\n",
    "# Add cell type annotations to the data\n",
    "adata.obs['cell_type'] = adata.obs['leiden'].map(cluster_annotations).astype('category')\n",
    "\n",
    "print(\"\\nCell type distribution:\")\n",
    "print(adata.obs['cell_type'].value_counts())"
   ]
  },
  {
   "cell_type": "markdown",
   "metadata": {},
   "source": [
    "## 12. Final Visualizations"
   ]
  },
  {
   "cell_type": "code",
   "execution_count": null,
   "metadata": {},
   "outputs": [],
   "source": [
    "# Create side-by-side UMAP plots: clusters and cell types\n",
    "fig, axes = plt.subplots(1, 2, figsize=(16, 6))\n",
    "\n",
    "# Plot 1: Leiden clusters\n",
    "sc.pl.umap(\n",
    "    adata,\n",
    "    color='leiden',\n",
    "    legend_loc='on data',\n",
    "    title='UMAP by Leiden Cluster',\n",
    "    ax=axes[0],\n",
    "    show=False\n",
    ")\n",
    "\n",
    "# Plot 2: Annotated cell types\n",
    "sc.pl.umap(\n",
    "    adata,\n",
    "    color='cell_type',\n",
    "    legend_loc='right margin',\n",
    "    title='UMAP by Cell Type',\n",
    "    ax=axes[1],\n",
    "    show=False\n",
    ")\n",
    "\n",
    "plt.tight_layout()\n",
    "plt.savefig(FIGURES_DIR / 'umap_comparison.png', dpi=300, bbox_inches='tight')\n",
    "plt.show()\n",
    "\n",
    "print(\"Comparison plot saved.\")"
   ]
  },
  {
   "cell_type": "code",
   "execution_count": null,
   "metadata": {},
   "outputs": [],
   "source": [
    "# Create final annotated UMAP\n",
    "sc.pl.umap(\n",
    "    adata,\n",
    "    color='cell_type',\n",
    "    legend_loc='right margin',\n",
    "    title='Annotated PBMC Cell Types',\n",
    "    frameon=False,\n",
    "    save='_annotated.png'\n",
    ")"
   ]
  },
  {
   "cell_type": "code",
   "execution_count": null,
   "metadata": {},
   "outputs": [],
   "source": [
    "# Visualize specific marker genes overlaid on cell types\n",
    "sc.pl.umap(\n",
    "    adata,\n",
    "    color=['cell_type', 'CD14', 'CD3D', 'MS4A1', 'NKG7'],\n",
    "    use_raw=True,\n",
    "    ncols=2,\n",
    "    save='_final_markers.png'\n",
    ")"
   ]
  },
  {
   "cell_type": "markdown",
   "metadata": {},
   "source": [
    "## 13. Save Results"
   ]
  },
  {
   "cell_type": "code",
   "execution_count": null,
   "metadata": {},
   "outputs": [],
   "source": [
    "# Save the annotated AnnData object for future use\n",
    "results_file = Path('../data/pbmc3k_processed.h5ad')\n",
    "adata.write(results_file)\n",
    "print(f\"\\nProcessed data saved to: {results_file}\")"
   ]
  },
  {
   "cell_type": "code",
   "execution_count": null,
   "metadata": {},
   "outputs": [],
   "source": [
    "# Export cell type annotations to CSV\n",
    "annotations_df = adata.obs[['leiden', 'cell_type']].copy()\n",
    "annotations_df.to_csv(FIGURES_DIR / 'cell_annotations.csv')\n",
    "print(f\"Cell annotations exported to: {FIGURES_DIR / 'cell_annotations.csv'}\")"
   ]
  },
  {
   "cell_type": "code",
   "execution_count": null,
   "metadata": {},
   "outputs": [],
   "source": [
    "# Export marker genes to CSV\n",
    "marker_genes_df = pd.DataFrame(adata.uns['rank_genes_leiden']['names'])\n",
    "marker_genes_df.to_csv(FIGURES_DIR / 'marker_genes.csv', index=False)\n",
    "print(f\"Marker genes exported to: {FIGURES_DIR / 'marker_genes.csv'}\")"
   ]
  },
  {
   "cell_type": "markdown",
   "metadata": {},
   "source": [
    "## 14. Summary Statistics"
   ]
  },
  {
   "cell_type": "code",
   "execution_count": null,
   "metadata": {},
   "outputs": [],
   "source": [
    "# Print summary of the analysis\n",
    "print(\"=\"*60)\n",
    "print(\"ANALYSIS SUMMARY\")\n",
    "print(\"=\"*60)\n",
    "print(f\"\\nTotal cells analyzed: {adata.n_obs}\")\n",
    "print(f\"Total genes: {adata.n_vars}\")\n",
    "print(f\"\\nNumber of clusters: {len(adata.obs['leiden'].unique())}\")\n",
    "print(f\"Number of cell types: {len(adata.obs['cell_type'].unique())}\")\n",
    "print(\"\\nCell type distribution:\")\n",
    "print(adata.obs['cell_type'].value_counts())\n",
    "print(\"\\n\" + \"=\"*60)"
   ]
  },
  {
   "cell_type": "markdown",
   "metadata": {},
   "source": [
    "---\n",
    "\n",
    "## Conclusion\n",
    "\n",
    "This workflow demonstrated a complete single-cell RNA-Seq analysis pipeline:\n",
    "\n",
    "1. ✅ Loaded and explored 10x Genomics PBMC data\n",
    "2. ✅ Performed quality control and filtering\n",
    "3. ✅ Normalized and preprocessed the data\n",
    "4. ✅ Selected highly variable genes\n",
    "5. ✅ Reduced dimensionality with PCA and UMAP\n",
    "6. ✅ Identified cell clusters using Leiden algorithm\n",
    "7. ✅ Found cluster-specific marker genes\n",
    "8. ✅ Annotated biological cell types\n",
    "9. ✅ Generated publication-quality visualizations\n",
    "\n",
    "**Key outputs:**\n",
    "- UMAP visualizations showing cluster structure and cell types\n",
    "- Identified marker genes for each cell population\n",
    "- Annotated cell types based on known markers\n",
    "- Saved processed data and results for downstream analysis\n",
    "\n",
    "**Next steps:**\n",
    "- Differential expression analysis between cell types\n",
    "- Trajectory analysis for developmental processes\n",
    "- Integration with other datasets\n",
    "- Functional enrichment analysis\n",
    "\n",
    "---"
   ]
  }
 ],
 "metadata": {
  "kernelspec": {
   "display_name": "Python 3 (ipykernel)",
   "language": "python",
   "name": "python3"
  },
  "language_info": {
   "codemirror_mode": {
    "name": "ipython",
    "version": 3
   },
   "file_extension": ".py",
   "mimetype": "text/x-python",
   "name": "python",
   "nbconvert_exporter": "python",
   "pygments_lexer": "ipython3",
   "version": "3.10.12"
  }
 },
 "nbformat": 4,
 "nbformat_minor": 4
}
